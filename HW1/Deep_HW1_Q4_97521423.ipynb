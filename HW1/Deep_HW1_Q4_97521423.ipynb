{
  "nbformat": 4,
  "nbformat_minor": 0,
  "metadata": {
    "colab": {
      "name": "Deep-HW1-Q4.ipynb",
      "provenance": [],
      "collapsed_sections": []
    },
    "kernelspec": {
      "name": "python3",
      "display_name": "Python 3"
    },
    "language_info": {
      "name": "python"
    }
  },
  "cells": [
    {
      "cell_type": "code",
      "metadata": {
        "colab": {
          "base_uri": "https://localhost:8080/"
        },
        "id": "i4X6UPsHAG9O",
        "outputId": "5f813fbd-be48-41f6-da70-4e3fa3512180"
      },
      "source": [
        "!wget https://archive.ics.uci.edu/ml/machine-learning-databases/iris/iris.data\n",
        "import numpy as np"
      ],
      "execution_count": 4,
      "outputs": [
        {
          "output_type": "stream",
          "name": "stdout",
          "text": [
            "--2021-10-02 18:12:24--  https://archive.ics.uci.edu/ml/machine-learning-databases/iris/iris.data\n",
            "Resolving archive.ics.uci.edu (archive.ics.uci.edu)... 128.195.10.252\n",
            "Connecting to archive.ics.uci.edu (archive.ics.uci.edu)|128.195.10.252|:443... connected.\n",
            "HTTP request sent, awaiting response... 200 OK\n",
            "Length: 4551 (4.4K) [application/x-httpd-php]\n",
            "Saving to: ‘iris.data.2’\n",
            "\n",
            "iris.data.2         100%[===================>]   4.44K  --.-KB/s    in 0s      \n",
            "\n",
            "2021-10-02 18:12:24 (92.1 MB/s) - ‘iris.data.2’ saved [4551/4551]\n",
            "\n"
          ]
        }
      ]
    },
    {
      "cell_type": "code",
      "metadata": {
        "colab": {
          "base_uri": "https://localhost:8080/"
        },
        "id": "uEK1Z4bFKUgL",
        "outputId": "67f782b4-0ee7-4594-a276-d573554e9fc6"
      },
      "source": [
        "data = {}\n",
        "test_data = []\n",
        "\n",
        "data['Iris-virginica'] = []\n",
        "data['Iris-setosa'] = []\n",
        "data['Iris-versicolor'] = []\n",
        "\n",
        "f = open(\"iris.data\")\n",
        "for e in f:\n",
        "    toks = e.split(',')\n",
        "    if len(toks) == 5:\n",
        "        flower = toks[4].strip()\n",
        "        a = [float(i) for i in toks[:4]]\n",
        "        attributes = np.array(a)\n",
        "        data[flower].append(attributes)\n",
        "        test_data.append((flower, attributes))\n",
        "\n",
        "variance = {}\n",
        "mean = {}\n",
        "\n",
        "variance['Iris-virginica'] = np.var(np.array(data['Iris-virginica']), axis=0)\n",
        "variance['Iris-setosa'] = np.var(np.array(data['Iris-setosa']), axis=0)\n",
        "variance['Iris-versicolor'] = np.var(np.array(data['Iris-versicolor']), axis=0)\n",
        "\n",
        "mean['Iris-virginica'] = np.mean(np.array(data['Iris-virginica']), axis=0)\n",
        "mean['Iris-setosa'] = np.mean(np.array(data['Iris-setosa']), axis=0)\n",
        "mean['Iris-versicolor'] = np.mean(np.array(data['Iris-versicolor']), axis=0)\n",
        "\n",
        "\n",
        "pos = {}\n",
        "\n",
        "pos['Iris-virginica'] = len(data['Iris-virginica']) / 150\n",
        "pos['Iris-setosa'] = len(data['Iris-setosa']) / 150\n",
        "pos['Iris-versicolor'] = len(data['Iris-versicolor']) / 150\n",
        "\n",
        "\n",
        "def predict(flowerr, xi):\n",
        "    cp = (1/np.sqrt(2* np.pi* variance[flowerr]))* np.exp(-1*((xi - mean[flowerr])**2)/(2*variance[flowerr])) \n",
        "    return (np.prod(cp) * pos[flowerr])\n",
        "\n",
        "flowers = ['Iris-virginica','Iris-setosa','Iris-versicolor']\n",
        "i = 0\n",
        "\n",
        "for test in test_data:\n",
        "    maxx = -9999999\n",
        "    for f in flowers:\n",
        "        ps = predict(f, test[1])\n",
        "        if ps > maxx:\n",
        "            maxx = ps\n",
        "            winner = f\n",
        "    if winner == test[0]:\n",
        "        i += 1\n",
        "print('acc = ', i/150)\n",
        "\n"
      ],
      "execution_count": 44,
      "outputs": [
        {
          "output_type": "stream",
          "name": "stdout",
          "text": [
            "acc =  0.96\n"
          ]
        }
      ]
    }
  ]
}