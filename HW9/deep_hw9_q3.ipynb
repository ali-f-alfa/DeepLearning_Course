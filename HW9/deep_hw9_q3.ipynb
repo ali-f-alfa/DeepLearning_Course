{
  "nbformat": 4,
  "nbformat_minor": 0,
  "metadata": {
    "colab": {
      "name": "deep_hw9_q3.ipynb",
      "provenance": [],
      "collapsed_sections": []
    },
    "kernelspec": {
      "name": "python3",
      "display_name": "Python 3"
    },
    "language_info": {
      "name": "python"
    },
    "accelerator": "GPU"
  },
  "cells": [
    {
      "cell_type": "code",
      "metadata": {
        "id": "ZkVXfSWpbrdr",
        "colab": {
          "base_uri": "https://localhost:8080/"
        },
        "outputId": "640d82b8-4781-4cfd-9214-3c671c3cd580"
      },
      "source": [
        "import tensorflow as tf\n",
        "from tensorflow import keras\n",
        "!pip install -q -U keras-tuner\n",
        "import keras_tuner as kt\n",
        "from keras_tuner import RandomSearch\n",
        "from keras.models import Sequential\n",
        "from keras.layers import Dense, Dropout, Flatten\n",
        "from tensorflow.keras.layers import Conv2D, MaxPooling2D\n",
        "from tensorflow.keras.losses import categorical_crossentropy\n"
      ],
      "execution_count": 1,
      "outputs": [
        {
          "output_type": "stream",
          "name": "stdout",
          "text": [
            "\u001b[?25l\r\u001b[K     |███▍                            | 10 kB 23.6 MB/s eta 0:00:01\r\u001b[K     |██████▊                         | 20 kB 25.9 MB/s eta 0:00:01\r\u001b[K     |██████████                      | 30 kB 12.1 MB/s eta 0:00:01\r\u001b[K     |█████████████▍                  | 40 kB 9.5 MB/s eta 0:00:01\r\u001b[K     |████████████████▊               | 51 kB 5.4 MB/s eta 0:00:01\r\u001b[K     |████████████████████            | 61 kB 5.9 MB/s eta 0:00:01\r\u001b[K     |███████████████████████▍        | 71 kB 5.7 MB/s eta 0:00:01\r\u001b[K     |██████████████████████████▊     | 81 kB 6.3 MB/s eta 0:00:01\r\u001b[K     |██████████████████████████████  | 92 kB 4.9 MB/s eta 0:00:01\r\u001b[K     |████████████████████████████████| 98 kB 3.2 MB/s \n",
            "\u001b[?25h"
          ]
        }
      ]
    },
    {
      "cell_type": "code",
      "metadata": {
        "id": "6JJykZv6cBgN",
        "colab": {
          "base_uri": "https://localhost:8080/"
        },
        "outputId": "88bcb348-410a-4512-b8c6-ee74face7a4e"
      },
      "source": [
        "(img_train, label_train), (img_test, label_test) = keras.datasets.cifar10.load_data()\n",
        "\n",
        "# Normalize pixel values between 0 and 1\n",
        "img_train = img_train.astype('float32') / 255.0\n",
        "img_test = img_test.astype('float32') / 255.0\n",
        "\n",
        "\n",
        "label_train = keras.utils.to_categorical(label_train, 10)\n",
        "label_test = keras.utils.to_categorical(label_test, 10)"
      ],
      "execution_count": 3,
      "outputs": [
        {
          "output_type": "stream",
          "name": "stdout",
          "text": [
            "Downloading data from https://www.cs.toronto.edu/~kriz/cifar-10-python.tar.gz\n",
            "170500096/170498071 [==============================] - 3s 0us/step\n",
            "170508288/170498071 [==============================] - 3s 0us/step\n"
          ]
        }
      ]
    },
    {
      "cell_type": "code",
      "metadata": {
        "id": "O2kQw_WXcntN"
      },
      "source": [
        "def build_model(hp):\n",
        "    model = keras.Sequential()\n",
        "    model.add(Conv2D(hp.Int(f\"features_c_{-1}\", min_value=32, max_value=256, step=32),\n",
        "                     3, activation =\"relu\", input_shape=(32, 32, 3)))\n",
        "\n",
        "    for i in range(hp.Int(\"num_conv_layers\", 0, 4)):\n",
        "        model.add(\n",
        "            Conv2D(\n",
        "                hp.Int(f\"features_c_{i}\", min_value=32, max_value=256, step=32),\n",
        "                3,                \n",
        "                activation='relu',\n",
        "            )\n",
        "        )\n",
        "        #   model.add(Conv2D(8, kernel_size, activation =\"relu\", input_shape=(150, 150, 3)))\n",
        "    model.add(Flatten())\n",
        "\n",
        "    for i in range(hp.Int(\"num_dense_layers\", 1, 5)):\n",
        "        model.add(\n",
        "            Dense(\n",
        "                units=hp.Int(f\"units_{i}\", min_value=32, max_value=512, step=32),\n",
        "                activation='relu',\n",
        "            )\n",
        "        )\n",
        "    model.add(Dense(10, activation=\"softmax\"))\n",
        "    \n",
        "    hp_learning_rate = hp.Float(\"lr\", min_value=1e-4, max_value=1e-3, sampling=\"log\")\n",
        "    model.compile(optimizer=keras.optimizers.Adam(learning_rate=hp_learning_rate),\n",
        "                loss= tf.keras.losses.CategoricalCrossentropy(),\n",
        "                metrics=['accuracy'])\n",
        "    return model\n",
        "\n",
        "\n",
        "    # # Tune the number of units in the first Dense layer\n",
        "    # # Choose an optimal value between 32-512\n",
        "    # hp_units = hp.Int('units', min_value=16, max_value=512, step=32)\n",
        "    # model.add(keras.layers.Dense(units=hp_units, activation='relu'))\n",
        "    # model.add(keras.layers.Dense(units=hp_units, activation='relu'))\n",
        "    # model.add(keras.layers.Dense(units=hp_units, activation='relu'))\n",
        "    # model.add(keras.layers.Dense(units=hp_units, activation='relu'))\n",
        "    # model.add(keras.layers.Dense(units=hp_units, activation='relu'))\n",
        "    # model.add(keras.layers.Dense(10))\n",
        "\n",
        "    # # Tune the learning rate for the optimizer\n",
        "    # # Choose an optimal value from 0.01, 0.001, or 0.0001\n",
        "    # hp_learning_rate = hp.Choice('learning_rate', values=[1e-2, 1e-3, 1e-4])\n",
        "\n",
        "   \n"
      ],
      "execution_count": 4,
      "outputs": []
    },
    {
      "cell_type": "code",
      "metadata": {
        "id": "k2_b27g32SC7"
      },
      "source": [
        "tuner = kt.RandomSearch(\n",
        "    hypermodel=build_model,\n",
        "    objective=\"val_accuracy\",\n",
        "    max_trials=3,\n",
        "    executions_per_trial=2,\n",
        "    overwrite=True,\n",
        "    directory=\"my_dir\",\n",
        "    project_name=\"cifar\",\n",
        ")\n"
      ],
      "execution_count": 5,
      "outputs": []
    },
    {
      "cell_type": "code",
      "metadata": {
        "colab": {
          "base_uri": "https://localhost:8080/"
        },
        "id": "flAUdN0-5EM5",
        "outputId": "5d58db09-65ef-4ffd-81c4-10d706a72a2a"
      },
      "source": [
        "tuner.search_space_summary()\n",
        "tuner.search(img_train,label_train,epochs=10,validation_data=(img_test,label_test))\n"
      ],
      "execution_count": 6,
      "outputs": [
        {
          "output_type": "stream",
          "name": "stdout",
          "text": [
            "Trial 3 Complete [00h 34m 19s]\n",
            "val_accuracy: 0.7275999784469604\n",
            "\n",
            "Best val_accuracy So Far: 0.7275999784469604\n",
            "Total elapsed time: 01h 09m 11s\n",
            "INFO:tensorflow:Oracle triggered exit\n"
          ]
        }
      ]
    },
    {
      "cell_type": "code",
      "metadata": {
        "colab": {
          "base_uri": "https://localhost:8080/"
        },
        "id": "ITEMZssoyzA9",
        "outputId": "446e082d-95db-4883-c019-1400eefdc112"
      },
      "source": [
        "# Get the top 2 models.\n",
        "models = tuner.get_best_models(num_models=2)\n",
        "best_model = models[0]\n",
        "# Build the model.\n",
        "best_model.build(input_shape=(None, 32, 32))\n",
        "best_model.summary()\n"
      ],
      "execution_count": 7,
      "outputs": [
        {
          "output_type": "stream",
          "name": "stdout",
          "text": [
            "Model: \"sequential\"\n",
            "_________________________________________________________________\n",
            " Layer (type)                Output Shape              Param #   \n",
            "=================================================================\n",
            " conv2d (Conv2D)             (None, 30, 30, 160)       4480      \n",
            "                                                                 \n",
            " conv2d_1 (Conv2D)           (None, 28, 28, 128)       184448    \n",
            "                                                                 \n",
            " conv2d_2 (Conv2D)           (None, 26, 26, 192)       221376    \n",
            "                                                                 \n",
            " conv2d_3 (Conv2D)           (None, 24, 24, 224)       387296    \n",
            "                                                                 \n",
            " flatten (Flatten)           (None, 129024)            0         \n",
            "                                                                 \n",
            " dense (Dense)               (None, 256)               33030400  \n",
            "                                                                 \n",
            " dense_1 (Dense)             (None, 320)               82240     \n",
            "                                                                 \n",
            " dense_2 (Dense)             (None, 480)               154080    \n",
            "                                                                 \n",
            " dense_3 (Dense)             (None, 10)                4810      \n",
            "                                                                 \n",
            "=================================================================\n",
            "Total params: 34,069,130\n",
            "Trainable params: 34,069,130\n",
            "Non-trainable params: 0\n",
            "_________________________________________________________________\n"
          ]
        }
      ]
    },
    {
      "cell_type": "code",
      "metadata": {
        "colab": {
          "base_uri": "https://localhost:8080/"
        },
        "id": "w7F7cxBly9ne",
        "outputId": "4d7093c9-2c44-4f22-c728-d2c069d681a9"
      },
      "source": [
        "tuner.results_summary()\n"
      ],
      "execution_count": 8,
      "outputs": [
        {
          "output_type": "stream",
          "name": "stdout",
          "text": [
            "Results summary\n",
            "Results in my_dir/cifar\n",
            "Showing 10 best trials\n",
            "Objective(name='val_accuracy', direction='max')\n",
            "Trial summary\n",
            "Hyperparameters:\n",
            "features_c_-1: 160\n",
            "num_conv_layers: 3\n",
            "num_dense_layers: 3\n",
            "units_0: 256\n",
            "lr: 0.0002580801474874774\n",
            "features_c_0: 128\n",
            "features_c_1: 192\n",
            "features_c_2: 224\n",
            "features_c_3: 128\n",
            "units_1: 320\n",
            "units_2: 480\n",
            "units_3: 256\n",
            "units_4: 384\n",
            "Score: 0.7275999784469604\n",
            "Trial summary\n",
            "Hyperparameters:\n",
            "features_c_-1: 192\n",
            "num_conv_layers: 4\n",
            "num_dense_layers: 5\n",
            "units_0: 160\n",
            "lr: 0.0001486668133601622\n",
            "features_c_0: 128\n",
            "features_c_1: 192\n",
            "features_c_2: 96\n",
            "features_c_3: 64\n",
            "units_1: 320\n",
            "units_2: 32\n",
            "units_3: 32\n",
            "units_4: 32\n",
            "Score: 0.7060999870300293\n",
            "Trial summary\n",
            "Hyperparameters:\n",
            "features_c_-1: 128\n",
            "num_conv_layers: 4\n",
            "num_dense_layers: 2\n",
            "units_0: 192\n",
            "lr: 0.0006488638452453321\n",
            "features_c_0: 32\n",
            "features_c_1: 32\n",
            "features_c_2: 32\n",
            "features_c_3: 32\n",
            "units_1: 32\n",
            "Score: 0.6674999892711639\n"
          ]
        }
      ]
    },
    {
      "cell_type": "code",
      "metadata": {
        "colab": {
          "base_uri": "https://localhost:8080/"
        },
        "id": "0e2VQl_GzBeR",
        "outputId": "799c5ec7-2190-4703-efa1-2064fa547f2e"
      },
      "source": [
        "import numpy as np\n",
        "\n",
        "best_hps = tuner.get_best_hyperparameters(5)\n",
        "# Build the model with the best hp.\n",
        "model = build_model(best_hps[0])\n",
        "# Fit with the entire dataset.\n",
        "x_all = np.concatenate((img_train, img_test))\n",
        "y_all = np.concatenate((label_train, label_test))\n",
        "model.fit(x=x_all, y=y_all, epochs=1)"
      ],
      "execution_count": 9,
      "outputs": [
        {
          "output_type": "stream",
          "name": "stdout",
          "text": [
            "1875/1875 [==============================] - 113s 60ms/step - loss: 1.3166 - accuracy: 0.5250\n"
          ]
        },
        {
          "output_type": "execute_result",
          "data": {
            "text/plain": [
              "<keras.callbacks.History at 0x7f81f015bdd0>"
            ]
          },
          "metadata": {},
          "execution_count": 9
        }
      ]
    }
  ]
}